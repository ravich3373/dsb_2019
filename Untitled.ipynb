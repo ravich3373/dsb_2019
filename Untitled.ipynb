{
 "cells": [
  {
   "cell_type": "code",
   "execution_count": 29,
   "metadata": {},
   "outputs": [],
   "source": [
    "import pandas as pd\n",
    "from collections import defaultdict"
   ]
  },
  {
   "cell_type": "code",
   "execution_count": 2,
   "metadata": {},
   "outputs": [],
   "source": [
    "df = pd.read_csv('train.csv')"
   ]
  },
  {
   "cell_type": "code",
   "execution_count": 3,
   "metadata": {},
   "outputs": [],
   "source": [
    "pd.set_option('display.max_colwidth', -1)"
   ]
  },
  {
   "cell_type": "code",
   "execution_count": 4,
   "metadata": {},
   "outputs": [
    {
     "data": {
      "text/plain": [
       "Index(['event_id', 'game_session', 'timestamp', 'event_data',\n",
       "       'installation_id', 'event_count', 'event_code', 'game_time', 'title',\n",
       "       'type', 'world'],\n",
       "      dtype='object')"
      ]
     },
     "execution_count": 4,
     "metadata": {},
     "output_type": "execute_result"
    }
   ],
   "source": [
    "df.columns"
   ]
  },
  {
   "cell_type": "code",
   "execution_count": 5,
   "metadata": {},
   "outputs": [
    {
     "data": {
      "text/plain": [
       "(42, 384)"
      ]
     },
     "execution_count": 5,
     "metadata": {},
     "output_type": "execute_result"
    }
   ],
   "source": [
    "df['event_code'].nunique(), df['event_id'].nunique()"
   ]
  },
  {
   "cell_type": "code",
   "execution_count": 22,
   "metadata": {},
   "outputs": [
    {
     "data": {
      "text/plain": [
       "array(['NONE', 'MAGMAPEAK', 'TREETOPCITY', 'CRYSTALCAVES'], dtype=object)"
      ]
     },
     "execution_count": 22,
     "metadata": {},
     "output_type": "execute_result"
    }
   ],
   "source": [
    "df['world'].unique()"
   ]
  },
  {
   "cell_type": "code",
   "execution_count": 5,
   "metadata": {},
   "outputs": [
    {
     "data": {
      "text/html": [
       "<div>\n",
       "<style scoped>\n",
       "    .dataframe tbody tr th:only-of-type {\n",
       "        vertical-align: middle;\n",
       "    }\n",
       "\n",
       "    .dataframe tbody tr th {\n",
       "        vertical-align: top;\n",
       "    }\n",
       "\n",
       "    .dataframe thead th {\n",
       "        text-align: right;\n",
       "    }\n",
       "</style>\n",
       "<table border=\"1\" class=\"dataframe\">\n",
       "  <thead>\n",
       "    <tr style=\"text-align: right;\">\n",
       "      <th></th>\n",
       "      <th>event_id</th>\n",
       "      <th>game_session</th>\n",
       "      <th>timestamp</th>\n",
       "      <th>event_data</th>\n",
       "      <th>installation_id</th>\n",
       "      <th>event_count</th>\n",
       "      <th>event_code</th>\n",
       "      <th>game_time</th>\n",
       "      <th>title</th>\n",
       "      <th>type</th>\n",
       "      <th>world</th>\n",
       "    </tr>\n",
       "  </thead>\n",
       "  <tbody>\n",
       "    <tr>\n",
       "      <th>0</th>\n",
       "      <td>27253bdc</td>\n",
       "      <td>45bb1e1b6b50c07b</td>\n",
       "      <td>2019-09-06T17:53:46.937Z</td>\n",
       "      <td>{\"event_code\": 2000, \"event_count\": 1}</td>\n",
       "      <td>0001e90f</td>\n",
       "      <td>1</td>\n",
       "      <td>2000</td>\n",
       "      <td>0</td>\n",
       "      <td>Welcome to Lost Lagoon!</td>\n",
       "      <td>Clip</td>\n",
       "      <td>NONE</td>\n",
       "    </tr>\n",
       "    <tr>\n",
       "      <th>1</th>\n",
       "      <td>27253bdc</td>\n",
       "      <td>17eeb7f223665f53</td>\n",
       "      <td>2019-09-06T17:54:17.519Z</td>\n",
       "      <td>{\"event_code\": 2000, \"event_count\": 1}</td>\n",
       "      <td>0001e90f</td>\n",
       "      <td>1</td>\n",
       "      <td>2000</td>\n",
       "      <td>0</td>\n",
       "      <td>Magma Peak - Level 1</td>\n",
       "      <td>Clip</td>\n",
       "      <td>MAGMAPEAK</td>\n",
       "    </tr>\n",
       "    <tr>\n",
       "      <th>2</th>\n",
       "      <td>77261ab5</td>\n",
       "      <td>0848ef14a8dc6892</td>\n",
       "      <td>2019-09-06T17:54:56.302Z</td>\n",
       "      <td>{\"version\":\"1.0\",\"event_count\":1,\"game_time\":0,\"event_code\":2000}</td>\n",
       "      <td>0001e90f</td>\n",
       "      <td>1</td>\n",
       "      <td>2000</td>\n",
       "      <td>0</td>\n",
       "      <td>Sandcastle Builder (Activity)</td>\n",
       "      <td>Activity</td>\n",
       "      <td>MAGMAPEAK</td>\n",
       "    </tr>\n",
       "    <tr>\n",
       "      <th>3</th>\n",
       "      <td>b2dba42b</td>\n",
       "      <td>0848ef14a8dc6892</td>\n",
       "      <td>2019-09-06T17:54:56.387Z</td>\n",
       "      <td>{\"description\":\"Let's build a sandcastle! First, fill up your mold with sand! You can use the shovel here. The mold gives the sand its shape!\",\"identifier\":\"Dot_LetsSandcastle,Dot_FillMold,Dot_MoldShape\",\"media_type\":\"audio\",\"total_duration\":6758,\"event_count\":2,\"game_time\":53,\"event_code\":3010}</td>\n",
       "      <td>0001e90f</td>\n",
       "      <td>2</td>\n",
       "      <td>3010</td>\n",
       "      <td>53</td>\n",
       "      <td>Sandcastle Builder (Activity)</td>\n",
       "      <td>Activity</td>\n",
       "      <td>MAGMAPEAK</td>\n",
       "    </tr>\n",
       "    <tr>\n",
       "      <th>4</th>\n",
       "      <td>1bb5fbdb</td>\n",
       "      <td>0848ef14a8dc6892</td>\n",
       "      <td>2019-09-06T17:55:03.253Z</td>\n",
       "      <td>{\"description\":\"Let's build a sandcastle! First, fill up your mold with sand! You can use the shovel here. The mold gives the sand its shape!\",\"identifier\":\"Dot_LetsSandcastle,Dot_FillMold,Dot_MoldShape\",\"media_type\":\"audio\",\"duration\":6919,\"event_count\":3,\"game_time\":6972,\"event_code\":3110}</td>\n",
       "      <td>0001e90f</td>\n",
       "      <td>3</td>\n",
       "      <td>3110</td>\n",
       "      <td>6972</td>\n",
       "      <td>Sandcastle Builder (Activity)</td>\n",
       "      <td>Activity</td>\n",
       "      <td>MAGMAPEAK</td>\n",
       "    </tr>\n",
       "  </tbody>\n",
       "</table>\n",
       "</div>"
      ],
      "text/plain": [
       "   event_id      game_session                 timestamp  \\\n",
       "0  27253bdc  45bb1e1b6b50c07b  2019-09-06T17:53:46.937Z   \n",
       "1  27253bdc  17eeb7f223665f53  2019-09-06T17:54:17.519Z   \n",
       "2  77261ab5  0848ef14a8dc6892  2019-09-06T17:54:56.302Z   \n",
       "3  b2dba42b  0848ef14a8dc6892  2019-09-06T17:54:56.387Z   \n",
       "4  1bb5fbdb  0848ef14a8dc6892  2019-09-06T17:55:03.253Z   \n",
       "\n",
       "                                                                                                                                                                                                                                                                                                 event_data  \\\n",
       "0  {\"event_code\": 2000, \"event_count\": 1}                                                                                                                                                                                                                                                                     \n",
       "1  {\"event_code\": 2000, \"event_count\": 1}                                                                                                                                                                                                                                                                     \n",
       "2  {\"version\":\"1.0\",\"event_count\":1,\"game_time\":0,\"event_code\":2000}                                                                                                                                                                                                                                          \n",
       "3  {\"description\":\"Let's build a sandcastle! First, fill up your mold with sand! You can use the shovel here. The mold gives the sand its shape!\",\"identifier\":\"Dot_LetsSandcastle,Dot_FillMold,Dot_MoldShape\",\"media_type\":\"audio\",\"total_duration\":6758,\"event_count\":2,\"game_time\":53,\"event_code\":3010}   \n",
       "4  {\"description\":\"Let's build a sandcastle! First, fill up your mold with sand! You can use the shovel here. The mold gives the sand its shape!\",\"identifier\":\"Dot_LetsSandcastle,Dot_FillMold,Dot_MoldShape\",\"media_type\":\"audio\",\"duration\":6919,\"event_count\":3,\"game_time\":6972,\"event_code\":3110}       \n",
       "\n",
       "  installation_id  event_count  event_code  game_time  \\\n",
       "0  0001e90f        1            2000        0           \n",
       "1  0001e90f        1            2000        0           \n",
       "2  0001e90f        1            2000        0           \n",
       "3  0001e90f        2            3010        53          \n",
       "4  0001e90f        3            3110        6972        \n",
       "\n",
       "                           title      type      world  \n",
       "0  Welcome to Lost Lagoon!        Clip      NONE       \n",
       "1  Magma Peak - Level 1           Clip      MAGMAPEAK  \n",
       "2  Sandcastle Builder (Activity)  Activity  MAGMAPEAK  \n",
       "3  Sandcastle Builder (Activity)  Activity  MAGMAPEAK  \n",
       "4  Sandcastle Builder (Activity)  Activity  MAGMAPEAK  "
      ]
     },
     "execution_count": 5,
     "metadata": {},
     "output_type": "execute_result"
    }
   ],
   "source": [
    "df.head()"
   ]
  },
  {
   "cell_type": "code",
   "execution_count": 6,
   "metadata": {},
   "outputs": [],
   "source": [
    "df_ttop = df.query('world == \"TREETOPCITY\"')"
   ]
  },
  {
   "cell_type": "code",
   "execution_count": 7,
   "metadata": {},
   "outputs": [],
   "source": [
    "df_ttop_cry_rulz = df_ttop[df_ttop['title']=='Crystals Rule']"
   ]
  },
  {
   "cell_type": "code",
   "execution_count": 67,
   "metadata": {},
   "outputs": [
    {
     "data": {
      "text/plain": [
       "(453852, 3061231)"
      ]
     },
     "execution_count": 67,
     "metadata": {},
     "output_type": "execute_result"
    }
   ],
   "source": [
    "len(df_ttop_cry_rulz),len(df_ttop)"
   ]
  },
  {
   "cell_type": "code",
   "execution_count": 33,
   "metadata": {},
   "outputs": [
    {
     "data": {
      "text/plain": [
       "(3061231, 11341042)"
      ]
     },
     "execution_count": 33,
     "metadata": {},
     "output_type": "execute_result"
    }
   ],
   "source": [
    "len(df_ttop),len(df)"
   ]
  },
  {
   "cell_type": "code",
   "execution_count": 4,
   "metadata": {},
   "outputs": [
    {
     "data": {
      "text/html": [
       "<div>\n",
       "<style scoped>\n",
       "    .dataframe tbody tr th:only-of-type {\n",
       "        vertical-align: middle;\n",
       "    }\n",
       "\n",
       "    .dataframe tbody tr th {\n",
       "        vertical-align: top;\n",
       "    }\n",
       "\n",
       "    .dataframe thead th {\n",
       "        text-align: right;\n",
       "    }\n",
       "</style>\n",
       "<table border=\"1\" class=\"dataframe\">\n",
       "  <thead>\n",
       "    <tr style=\"text-align: right;\">\n",
       "      <th></th>\n",
       "      <th>event_count</th>\n",
       "      <th>event_code</th>\n",
       "      <th>game_time</th>\n",
       "    </tr>\n",
       "  </thead>\n",
       "  <tbody>\n",
       "    <tr>\n",
       "      <th>count</th>\n",
       "      <td>1.134104e+07</td>\n",
       "      <td>1.134104e+07</td>\n",
       "      <td>1.134104e+07</td>\n",
       "    </tr>\n",
       "    <tr>\n",
       "      <th>mean</th>\n",
       "      <td>1.056642e+02</td>\n",
       "      <td>3.513838e+03</td>\n",
       "      <td>1.976236e+05</td>\n",
       "    </tr>\n",
       "    <tr>\n",
       "      <th>std</th>\n",
       "      <td>1.483477e+02</td>\n",
       "      <td>6.816470e+02</td>\n",
       "      <td>1.803968e+06</td>\n",
       "    </tr>\n",
       "    <tr>\n",
       "      <th>min</th>\n",
       "      <td>1.000000e+00</td>\n",
       "      <td>2.000000e+03</td>\n",
       "      <td>0.000000e+00</td>\n",
       "    </tr>\n",
       "    <tr>\n",
       "      <th>25%</th>\n",
       "      <td>2.500000e+01</td>\n",
       "      <td>3.021000e+03</td>\n",
       "      <td>3.061800e+04</td>\n",
       "    </tr>\n",
       "    <tr>\n",
       "      <th>50%</th>\n",
       "      <td>6.100000e+01</td>\n",
       "      <td>4.020000e+03</td>\n",
       "      <td>7.276100e+04</td>\n",
       "    </tr>\n",
       "    <tr>\n",
       "      <th>75%</th>\n",
       "      <td>1.290000e+02</td>\n",
       "      <td>4.035000e+03</td>\n",
       "      <td>1.574460e+05</td>\n",
       "    </tr>\n",
       "    <tr>\n",
       "      <th>max</th>\n",
       "      <td>3.368000e+03</td>\n",
       "      <td>5.010000e+03</td>\n",
       "      <td>3.069102e+08</td>\n",
       "    </tr>\n",
       "  </tbody>\n",
       "</table>\n",
       "</div>"
      ],
      "text/plain": [
       "        event_count    event_code     game_time\n",
       "count  1.134104e+07  1.134104e+07  1.134104e+07\n",
       "mean   1.056642e+02  3.513838e+03  1.976236e+05\n",
       "std    1.483477e+02  6.816470e+02  1.803968e+06\n",
       "min    1.000000e+00  2.000000e+03  0.000000e+00\n",
       "25%    2.500000e+01  3.021000e+03  3.061800e+04\n",
       "50%    6.100000e+01  4.020000e+03  7.276100e+04\n",
       "75%    1.290000e+02  4.035000e+03  1.574460e+05\n",
       "max    3.368000e+03  5.010000e+03  3.069102e+08"
      ]
     },
     "execution_count": 4,
     "metadata": {},
     "output_type": "execute_result"
    }
   ],
   "source": [
    "df.describe()"
   ]
  },
  {
   "cell_type": "code",
   "execution_count": 5,
   "metadata": {},
   "outputs": [
    {
     "data": {
      "text/plain": [
       "event_id           0\n",
       "game_session       0\n",
       "timestamp          0\n",
       "event_data         0\n",
       "installation_id    0\n",
       "event_count        0\n",
       "event_code         0\n",
       "game_time          0\n",
       "title              0\n",
       "type               0\n",
       "world              0\n",
       "dtype: int64"
      ]
     },
     "execution_count": 5,
     "metadata": {},
     "output_type": "execute_result"
    }
   ],
   "source": [
    "df.isna().sum()"
   ]
  },
  {
   "cell_type": "code",
   "execution_count": 6,
   "metadata": {},
   "outputs": [
    {
     "data": {
      "text/plain": [
       "(11341042, 11)"
      ]
     },
     "execution_count": 6,
     "metadata": {},
     "output_type": "execute_result"
    }
   ],
   "source": [
    "df.shape"
   ]
  },
  {
   "cell_type": "code",
   "execution_count": 8,
   "metadata": {},
   "outputs": [],
   "source": [
    "df_specs = pd.read_csv('specs.csv')"
   ]
  },
  {
   "cell_type": "code",
   "execution_count": 8,
   "metadata": {},
   "outputs": [
    {
     "data": {
      "text/html": [
       "<div>\n",
       "<style scoped>\n",
       "    .dataframe tbody tr th:only-of-type {\n",
       "        vertical-align: middle;\n",
       "    }\n",
       "\n",
       "    .dataframe tbody tr th {\n",
       "        vertical-align: top;\n",
       "    }\n",
       "\n",
       "    .dataframe thead th {\n",
       "        text-align: right;\n",
       "    }\n",
       "</style>\n",
       "<table border=\"1\" class=\"dataframe\">\n",
       "  <thead>\n",
       "    <tr style=\"text-align: right;\">\n",
       "      <th></th>\n",
       "      <th>event_id</th>\n",
       "      <th>info</th>\n",
       "      <th>args</th>\n",
       "    </tr>\n",
       "  </thead>\n",
       "  <tbody>\n",
       "    <tr>\n",
       "      <th>0</th>\n",
       "      <td>2b9272f4</td>\n",
       "      <td>The end of system-initiated feedback (Correct) event occurs when the game finishes delivering feedback to the player in response to a correct round attempt (pressing the go button with the correct answer). It contains information that describes the duration and content of the instruction, and will likely occur in conjunction with a beat round event. These events are used to determine the effectiveness of the feedback. We can answer questions like, \"how much time elapsed while the game was presenting feedback?\"</td>\n",
       "      <td>[{\"name\":\"game_time\",\"type\":\"int\",\"info\":\"millisecond count since start of game\"},{\"name\":\"round\",\"type\":\"int\",\"info\":\"number of the current round when the event takes place or 0 if no round\"},{\"name\":\"level\",\"type\":\"int\",\"info\":\"number of the current level when the event takes place or 0 if no level\"},{\"name\":\"description\",\"type\":\"string\",\"info\":\"the text or description of the instruction\"},{\"name\":\"identifier\",\"type\":\"string\",\"info\":\"a unique identifier for this piece of instruction\"},{\"name\":\"media_type\",\"type\":\"string\",\"info\":\"the type of media that has just played:\\n'audio' || 'animation' || 'other'\"},{\"name\":\"duration\",\"type\":\"int\",\"info\":\"the duration of the media playback in milliseconds\"},{\"name\":\"event_count\",\"type\":\"int\",\"info\":\"session event counter\"},{\"name\":\"event_code\",\"type\":\"int\",\"info\":\"event class identifier\"}]</td>\n",
       "    </tr>\n",
       "    <tr>\n",
       "      <th>1</th>\n",
       "      <td>df4fe8b6</td>\n",
       "      <td>The end of system-initiated feedback (Incorrect) event occurs when the game finishes delivering feedback to the player in response to an incorrect round attempt (pressing the go button with the incorrect answer). It contains information that describes the content of the instruction. These events are used to determine the effectiveness of the feedback. We can answer questions like, \"how much time elapsed while the game was presenting feedback?\"</td>\n",
       "      <td>[{\"name\":\"game_time\",\"type\":\"int\",\"info\":\"millisecond count since start of game\"},{\"name\":\"description\",\"type\":\"string\",\"info\":\"the text or description of the instruction\"},{\"name\":\"identifier\",\"type\":\"string\",\"info\":\"a unique identifier for this piece of instruction\"},{\"name\":\"media_type\",\"type\":\"string\",\"info\":\"the type of media that has just played:\\n'audio' || 'animation' || 'other'\"},{\"name\":\"duration\",\"type\":\"int\",\"info\":\"the duration of the media playback in milliseconds\"},{\"name\":\"event_count\",\"type\":\"int\",\"info\":\"session event counter\"},{\"name\":\"event_code\",\"type\":\"int\",\"info\":\"event class identifier\"}]</td>\n",
       "    </tr>\n",
       "  </tbody>\n",
       "</table>\n",
       "</div>"
      ],
      "text/plain": [
       "   event_id  \\\n",
       "0  2b9272f4   \n",
       "1  df4fe8b6   \n",
       "\n",
       "                                                                                                                                                                                                                                                                                                                                                                                                                                                                                                                                  info  \\\n",
       "0  The end of system-initiated feedback (Correct) event occurs when the game finishes delivering feedback to the player in response to a correct round attempt (pressing the go button with the correct answer). It contains information that describes the duration and content of the instruction, and will likely occur in conjunction with a beat round event. These events are used to determine the effectiveness of the feedback. We can answer questions like, \"how much time elapsed while the game was presenting feedback?\"   \n",
       "1  The end of system-initiated feedback (Incorrect) event occurs when the game finishes delivering feedback to the player in response to an incorrect round attempt (pressing the go button with the incorrect answer). It contains information that describes the content of the instruction. These events are used to determine the effectiveness of the feedback. We can answer questions like, \"how much time elapsed while the game was presenting feedback?\"                                                                       \n",
       "\n",
       "                                                                                                                                                                                                                                                                                                                                                                                                                                                                                                                                                                                                                                                                                                                                                                                                                                                                        args  \n",
       "0  [{\"name\":\"game_time\",\"type\":\"int\",\"info\":\"millisecond count since start of game\"},{\"name\":\"round\",\"type\":\"int\",\"info\":\"number of the current round when the event takes place or 0 if no round\"},{\"name\":\"level\",\"type\":\"int\",\"info\":\"number of the current level when the event takes place or 0 if no level\"},{\"name\":\"description\",\"type\":\"string\",\"info\":\"the text or description of the instruction\"},{\"name\":\"identifier\",\"type\":\"string\",\"info\":\"a unique identifier for this piece of instruction\"},{\"name\":\"media_type\",\"type\":\"string\",\"info\":\"the type of media that has just played:\\n'audio' || 'animation' || 'other'\"},{\"name\":\"duration\",\"type\":\"int\",\"info\":\"the duration of the media playback in milliseconds\"},{\"name\":\"event_count\",\"type\":\"int\",\"info\":\"session event counter\"},{\"name\":\"event_code\",\"type\":\"int\",\"info\":\"event class identifier\"}]  \n",
       "1  [{\"name\":\"game_time\",\"type\":\"int\",\"info\":\"millisecond count since start of game\"},{\"name\":\"description\",\"type\":\"string\",\"info\":\"the text or description of the instruction\"},{\"name\":\"identifier\",\"type\":\"string\",\"info\":\"a unique identifier for this piece of instruction\"},{\"name\":\"media_type\",\"type\":\"string\",\"info\":\"the type of media that has just played:\\n'audio' || 'animation' || 'other'\"},{\"name\":\"duration\",\"type\":\"int\",\"info\":\"the duration of the media playback in milliseconds\"},{\"name\":\"event_count\",\"type\":\"int\",\"info\":\"session event counter\"},{\"name\":\"event_code\",\"type\":\"int\",\"info\":\"event class identifier\"}]                                                                                                                                                                                                                                "
      ]
     },
     "execution_count": 8,
     "metadata": {},
     "output_type": "execute_result"
    }
   ],
   "source": [
    "pd.set_option('display.max_colwidth', -1)\n",
    "df_specs.head(2)"
   ]
  },
  {
   "cell_type": "code",
   "execution_count": 4,
   "metadata": {},
   "outputs": [
    {
     "data": {
      "text/plain": [
       "(386, 168, 191)"
      ]
     },
     "execution_count": 4,
     "metadata": {},
     "output_type": "execute_result"
    }
   ],
   "source": [
    "df_specs['event_id'].nunique(), df_specs['info'].nunique(), df_specs['args'].nunique(),"
   ]
  },
  {
   "cell_type": "code",
   "execution_count": 10,
   "metadata": {},
   "outputs": [
    {
     "data": {
      "text/plain": [
       "168"
      ]
     },
     "execution_count": 10,
     "metadata": {},
     "output_type": "execute_result"
    }
   ],
   "source": [
    " _  = df_specs['info'].value_counts()\n",
    "len(_)"
   ]
  },
  {
   "cell_type": "code",
   "execution_count": 15,
   "metadata": {},
   "outputs": [
    {
     "data": {
      "text/plain": [
       "This event occurs when the player clicks on the help button. It contains information about the state of the game that caused the player to seek help. This event is usually followed by a 3010 (system-initiated instruction) event. It helps identify points that players feel are too difficult.                                                                                                                                                                                                                                     17\n",
       "The start game event is triggered at the very beginning of the level (after the game finishes loading, don't wait for intro movie to finish). This is used to compute things like time spent in game.                                                                                                                                                                                                                                                                                                                                  16\n",
       "This event occurs when the player hovers the mouse over an interactive object. It contains information about the object under the mouse, and the duration of the hover. This event can be used to diagnose things like planning (are they hovering the mouse over tiles for long periods before they use those tiles), and determine which objects the player thinks are important.                                                                                                                                                    16\n",
       "The system-initiated instruction event occurs when the game delivers instructions to the player. It contains information that describes the content of the instruction. This event differs from events 3020 and 3021 as it captures instructions that are not given in response to player action. These events are used to determine the effectiveness of the instructions. We can answer questions like, \"did players who received instruction X do better than those who did not?\"                                                   15\n",
       "The end of system-initiated instruction event occurs when the game finishes delivering instructions to the player. It contains information that describes the content of the instruction including duration. These events are used to determine the effectiveness of the instructions and the amount of time they consume. We can answer questions like, \"how much time elapsed while the game was presenting instruction?\"                                                                                                            15\n",
       "This event occurs when the player clicks on something that isn’t covered elsewhere. It can be useful in determining if there are attractive distractions (things the player think should do something, but don’t) in the game, or diagnosing players who are having mechanical difficulties (near misses).                                                                                                                                                                                                                             14\n",
       "This event occurs when the player clicks to start the game from the starting screen.                                                                                                                                                                                                                                                                                                                                                                                                                                                   11\n",
       "The exit game event is triggered when the game is quit. This is used to compute things like time spent in game. Depending on platform this may / may not be possible. NOTE: “quit” also means navigating away from game.                                                                                                                                                                                                                                                                                                                9\n",
       "The end of system-initiated feedback (Incorrect) event occurs when the game finishes delivering feedback to the player in response to an incorrect round attempt (pressing the go button with the incorrect answer). It contains information that describes the content of the instruction. These events are used to determine the effectiveness of the feedback. We can answer questions like, \"how much time elapsed while the game was presenting feedback?\"                                                                         7\n",
       "The system-initiated feedback (Incorrect) event occurs when the game starts delivering feedback to the player in response to an incorrect round attempt (pressing the go button with the incorrect answer). It contains information that describes the content of the instruction. These events are used to determine the effectiveness of the feedback. We can answer questions like, \"did players who received feedback X do better than those who did not?\"                                                                          7\n",
       "The end of system-initiated feedback (Correct) event occurs when the game finishes delivering feedback to the player in response to a correct round attempt (pressing the go button with the correct answer). It contains information that describes the duration and content of the instruction, and will likely occur in conjunction with a beat round event. These events are used to determine the effectiveness of the feedback. We can answer questions like, \"how much time elapsed while the game was presenting feedback?\"     7\n",
       "The system-initiated feedback (Correct) event occurs when the game starts delivering feedback to the player in response to a correct round attempt (pressing the go button with the correct answer). It contains information that describes the content of the instruction, and will likely occur in conjunction with a beat round event. These events are used to determine the effectiveness of the feedback. We can answer questions like, \"did players who received feedback X do better than those who did not?\"                   7\n",
       "The system-initiated feedback (Incorrect) event occurs when the game starts delivering feedback to the player in response to an incorrect round attempt (pressing the go button with the incorrect answer). It contains information that describes the content of the instruction. These events are used to determine the effectiveness of the feedback. We can answer questions like \"did players who received feedback X do better than those who did not?\"                                                                           6\n",
       "The system-initiated instruction event occurs when the game delivers instructions to the player. It contains information that describes the content of the instruction. This event differs from events 3020 and 3021 as it captures instructions that are not given in response to player action. These events are used to determine the effectiveness of the instructions. We can answer questions like \"did players who received instruction X do better than those who did not?\"                                                     6\n",
       "The start game event is triggered at the very beginning of the level (after the game finishes loading don't wait for intro movie to finish). This is used to compute things like time spent in game.                                                                                                                                                                                                                                                                                                                                    6\n",
       "The end of system-initiated feedback (Correct) event occurs when the game finishes delivering feedback to the player in response to a correct round attempt (pressing the go button with the correct answer). It contains information that describes the duration and content of the instruction and will likely occur in conjunction with a beat round event. These events are used to determine the effectiveness of the feedback. We can answer questions like \"how much time elapsed while the game was presenting feedback?\"       6\n",
       "The end of system-initiated feedback (Incorrect) event occurs when the game finishes delivering feedback to the player in response to an incorrect round attempt (pressing the go button with the incorrect answer). It contains information that describes the content of the instruction. These events are used to determine the effectiveness of the feedback. We can answer questions like \"how much time elapsed while the game was presenting feedback?\"                                                                          6\n",
       "The end of system-initiated instruction event occurs when the game finishes delivering instructions to the player. It contains information that describes the content of the instruction including duration. These events are used to determine the effectiveness of the instructions and the amount of time they consume. We can answer questions like \"how much time elapsed while the game was presenting instruction?\"                                                                                                              6\n",
       "This event occurs when the player hovers the mouse over an interactive object. It contains information about the object under the mouse and the duration of the hover. This event can be used to diagnose things like planning (are they hovering the mouse over tiles for long periods before they use those tiles) and determine which objects the player thinks are important.                                                                                                                                                       6\n",
       "This event occurs when the player clicks on something that isn't covered elsewhere. It can be useful in determining if there are attractive distractions (things the player think should do something but don't) in the game or diagnosing players who are having mechanical difficulties (near misses).                                                                                                                                                                                                                                6\n",
       "The system-initiated feedback (Correct) event occurs when the game starts delivering feedback to the player in response to a correct round attempt (pressing the go button with the correct answer). It contains information that describes the content of the instruction and will likely occur in conjunction with a beat round event. These events are used to determine the effectiveness of the feedback. We can answer questions like \"did players who received feedback X do better than those who did not?\"                     6\n",
       "The beat round event is triggered when the player finishes a round. This event is used for calculating time spent in a round (for speed and accuracy) attempts at solving a round and the number of rounds the player has completed (completion).                                                                                                                                                                                                                                                                                       5\n",
       "The start round event is triggered at the start of a round. This event provides information about the game characteristics of the round (i.e. resources objectives setup). It is used in calculating things like time spent in a round (for speed and accuracy) attempts at solving a round and the number of rounds the player has visited (exposures).                                                                                                                                                                                5\n",
       "This event occurs when the player clicks on the play again button.                                                                                                                                                                                                                                                                                                                                                                                                                                                                      4\n",
       "This event occurs when the player clicks on the character that provides a hint (Sorry, I don't know his name). It contains information about the state of the game when the player chooses to seek help. This event is usually followed by a 3010 (system-initiated instruction) event. It helps identify points that players feel are too difficult.                                                                                                                                                                                   4\n",
       "The beat round event is triggered when the player finishes a round. This event is used for calculating time spent in a round (for speed and accuracy), attempts at solving a round, and the number of rounds the player has completed (completion).                                                                                                                                                                                                                                                                                     4\n",
       "This event occurs when the player clicks on something that isn't covered elsewhere. It can be useful in determining if there are attractive distractions (things the player think should do something, but don't) in the game, or diagnosing players who are having mechanical difficulties (near misses).                                                                                                                                                                                                                              4\n",
       "The start round event is triggered at the start of a round. This event provides information about the game characteristics of the round (i.e. resources, objectives, setup). It is used in calculating things like time spent in a round (for speed and accuracy), attempts at solving a round, and the number of rounds the player has visited (exposures).                                                                                                                                                                            4\n",
       "The movie ended event triggers when an intro or outro movie ends. It identifies the movie being played. This is used to determine how long players spend watching the movies (more relevant after the first play through when the skip option is available).                                                                                                                                                                                                                                                                            3\n",
       "The movie started event triggers when an intro or outro movie starts to play. It identifies the movie being played. This is used to determine how long players spend watching the movies (more relevant after the first play through when the skip option is available).                                                                                                                                                                                                                                                                3\n",
       "                                                                                                                                                                                                                                                                                                                                                                                                                                                                                                                                       ..\n",
       "This event occurs when the player drags a hat to the resource area. It contains information about the hat being moved. The event should occur when the drag is released and the hat is placed. These events are used to diagnose player strategies and understanding.                                                                                                                                                                                                                                                                   1\n",
       "This event occurs when the player drags a line from a rocket. It contains information about the rocket that was dragged and the height of the drag.                                                                                                                                                                                                                                                                                                                                                                                     1\n",
       "This event occurs when the player picks up a bottle by clicking on it, or begins dragging a bottle. It contains information about the bottle that was picked up and the position of the click.                                                                                                                                                                                                                                                                                                                                          1\n",
       "The start round event is triggered at the start of a round when a new arrangement of dinosaurs and houses is presented. This event provides information about the game characteristics of the round (i.e. resources, objectives, setup). It is used in calculating things like time spent in a round (for speed and accuracy), attempts at solving a round, and the number of rounds the player has visited (exposures).                                                                                                                1\n",
       "The start filling tub event is triggered after a round completes and the user is prompted to fill up the tub. It is used to separate a section of gameplay that is different from the estimation section of the game.                                                                                                                                                                                                                                                                                                                   1\n",
       "This event occurs when the player picks up a crystal by clicking on it, or begins dragging a crystal. It contains information about the chest that was picked up and the position of the chest. This event is used to calculate accuracy and to diagnose player strategies and understanding.                                                                                                                                                                                                                                           1\n",
       "This event occurs when the player puts the watering can down after watering flowers or after a 1 second period of inactivity while watering flowers (inactive timer should start only if flowers actually grow). It contains information about the state of the flowers.                                                                                                                                                                                                                                                                1\n",
       "This event occurs when the player on the done button to submit a solution. It contains information about the mushrooms placed on the stumps and the correctness of the action. This event is used to calculate accuracy and to diagnose player strategies and understanding.                                                                                                                                                                                                                                                            1\n",
       "This event occurs when the player clicks on the button to play again.                                                                                                                                                                                                                                                                                                                                                                                                                                                                   1\n",
       "This event occurs when the player clicks to pick up or begins dragging a dinosaur in the resource bin. It contains information about the dinosaur being moved, the position of the click, and the state of the game area. This event is used to diagnose player strategies and understanding.                                                                                                                                                                                                                                           1\n",
       "The exit game event is triggered when the game is quit. This is used to compute things like time spent in game. Depending on platform this may / may not be possible. NOTE: quit also means navigating away from game.                                                                                                                                                                                                                                                                                                                 1\n",
       "This event occurs when the player drags the object below the crystal. It occurs when the drag has finished. This event is used to diagnose player strategies and understanding.                                                                                                                                                                                                                                                                                                                                                         1\n",
       "This event occurs when the player clicks an interactive object in the victory screen section. It contains information about the object that was clicked, where the click occurred.                                                                                                                                                                                                                                                                                                                                                      1\n",
       "The start picking mushrooms event is triggered when the player is prompted to pick mushrooms. This event indicates a section of gameplay separate from the arranging section of gameplay.                                                                                                                                                                                                                                                                                                                                               1\n",
       "This event occurs when the player fills in one of the clouds. It contains information about the cloud that was filled.                                                                                                                                                                                                                                                                                                                                                                                                                  1\n",
       "The beat round event is triggered when the player finishes picking mushrooms. This event indicates a section of gameplay separate from the arranging section of gameplay.                                                                                                                                                                                                                                                                                                                                                               1\n",
       "The beat level event is triggered when a level has been completed and the player has cleared all rounds in the current layout (occurs at the same time as the beat round event for the last round in the previous level). This event is used for calculating time spent in a level (for speed and accuracy), and the number of levels the player has completed (completion).                                                                                                                                                            1\n",
       "The start round event is triggered at the start of the game. It contains information about the layout of the activity.                                                                                                                                                                                                                                                                                                                                                                                                                  1\n",
       "This event occurs when the player pours the contents of one of the bottles into the jar. It contains information about the bottle that was poured and where the state of the jar.                                                                                                                                                                                                                                                                                                                                                       1\n",
       "This event occurs when the player clicks to pick up or begins dragging a piece of food from the resource bin or scale. It contains information about the food being moved the position of the click and the state of the game area. This event is used to diagnose player strategies and understanding.                                                                                                                                                                                                                                 1\n",
       "This event occurs when the player places a chest on one of the three pillars. It contains information about the chest that was placed, the correctness of the action, and where the placement occurred. This event is used to calculate accuracy and to diagnose player strategies and understanding.                                                                                                                                                                                                                                   1\n",
       "This event occurs when the player drags a bucket to someplace other than an acceptable destination for the bucket. It contains information about the bucket being moved and the destination. The event should occur when the drag is released and the bucket is placed. These events are used to diagnose player strategies and understanding.                                                                                                                                                                                          1\n",
       "This event occurs when the player drags a bowl to someplace other than the scale or plate in the play area. It contains information about the bowl being moved the destination and the state of the game area. This event is used to diagnose player strategies and understanding.                                                                                                                                                                                                                                                      1\n",
       "This event occurs when the player places a flower in the basket. It contains information about the state of the flowers and the location of the placement.                                                                                                                                                                                                                                                                                                                                                                              1\n",
       "This event is triggered when a video starts playing                                                                                                                                                                                                                                                                                                                                                                                                                                                                                     1\n",
       "This event occurs when the player drags one of the caterpillars to measure a bird. It contains information about the caterpillar that was dragged and where the click occurred. The event should occur when the drag is released and the caterpillar’s size is set.                                                                                                                                                                                                                                                                     1\n",
       "The finished round event is triggered when the player finishes a round (hit milestone). This event is used for calculating time spent in a round, and the number of rounds the player has completed (completion).                                                                                                                                                                                                                                                                                                                       1\n",
       "This event occurs when the player drags a bowl from the scale to the resources. It contains information about the bowl being moved and the state of the game area. This event is used to diagnose player strategies and understanding.                                                                                                                                                                                                                                                                                                  1\n",
       "This event occurs when the player picks up a weight from the table. It contains information about the weight being picked. This event is used to diagnose player strategies and understanding.                                                                                                                                                                                                                                                                                                                                          1\n",
       "This event occurs when the player begins dragging from rocket. It contains information about the rocket that was dragged from and the position of the click.                                                                                                                                                                                                                                                                                                                                                                            1\n",
       "Name: info, Length: 168, dtype: int64"
      ]
     },
     "execution_count": 15,
     "metadata": {},
     "output_type": "execute_result"
    }
   ],
   "source": [
    "_"
   ]
  },
  {
   "cell_type": "code",
   "execution_count": 12,
   "metadata": {},
   "outputs": [
    {
     "data": {
      "text/plain": [
       "168"
      ]
     },
     "execution_count": 12,
     "metadata": {},
     "output_type": "execute_result"
    }
   ],
   "source": [
    "_ = df_specs['info'].unique()\n",
    "len(_)"
   ]
  },
  {
   "cell_type": "code",
   "execution_count": 13,
   "metadata": {},
   "outputs": [
    {
     "data": {
      "text/plain": [
       "'The end of system-initiated feedback (Correct) event occurs when the game finishes delivering feedback to the player in response to a correct round attempt (pressing the go button with the correct answer). It contains information that describes the duration and content of the instruction, and will likely occur in conjunction with a beat round event. These events are used to determine the effectiveness of the feedback. We can answer questions like, \"how much time elapsed while the game was presenting feedback?\"'"
      ]
     },
     "execution_count": 13,
     "metadata": {},
     "output_type": "execute_result"
    }
   ],
   "source": [
    "_[0]"
   ]
  },
  {
   "cell_type": "code",
   "execution_count": 16,
   "metadata": {},
   "outputs": [],
   "source": [
    "with open('specs_info.txt',\"w\") as fl:\n",
    "    for i,sentence in enumerate(_):\n",
    "        fl.write( (str(i)+\":\\t\"))\n",
    "        fl.write(_[i])\n",
    "        fl.write(\"\\n\\n\\n\")"
   ]
  },
  {
   "cell_type": "code",
   "execution_count": 8,
   "metadata": {},
   "outputs": [
    {
     "data": {
      "text/html": [
       "<div>\n",
       "<style scoped>\n",
       "    .dataframe tbody tr th:only-of-type {\n",
       "        vertical-align: middle;\n",
       "    }\n",
       "\n",
       "    .dataframe tbody tr th {\n",
       "        vertical-align: top;\n",
       "    }\n",
       "\n",
       "    .dataframe thead th {\n",
       "        text-align: right;\n",
       "    }\n",
       "</style>\n",
       "<table border=\"1\" class=\"dataframe\">\n",
       "  <thead>\n",
       "    <tr style=\"text-align: right;\">\n",
       "      <th></th>\n",
       "      <th>event_id</th>\n",
       "      <th>info</th>\n",
       "      <th>args</th>\n",
       "    </tr>\n",
       "  </thead>\n",
       "  <tbody>\n",
       "    <tr>\n",
       "      <th>count</th>\n",
       "      <td>386</td>\n",
       "      <td>386</td>\n",
       "      <td>386</td>\n",
       "    </tr>\n",
       "    <tr>\n",
       "      <th>unique</th>\n",
       "      <td>386</td>\n",
       "      <td>168</td>\n",
       "      <td>191</td>\n",
       "    </tr>\n",
       "    <tr>\n",
       "      <th>top</th>\n",
       "      <td>83c6c409</td>\n",
       "      <td>This event occurs when the player clicks on th...</td>\n",
       "      <td>[{\"name\":\"game_time\",\"type\":\"int\",\"info\":\"mill...</td>\n",
       "    </tr>\n",
       "    <tr>\n",
       "      <th>freq</th>\n",
       "      <td>1</td>\n",
       "      <td>17</td>\n",
       "      <td>25</td>\n",
       "    </tr>\n",
       "  </tbody>\n",
       "</table>\n",
       "</div>"
      ],
      "text/plain": [
       "        event_id                                               info  \\\n",
       "count        386                                                386   \n",
       "unique       386                                                168   \n",
       "top     83c6c409  This event occurs when the player clicks on th...   \n",
       "freq           1                                                 17   \n",
       "\n",
       "                                                     args  \n",
       "count                                                 386  \n",
       "unique                                                191  \n",
       "top     [{\"name\":\"game_time\",\"type\":\"int\",\"info\":\"mill...  \n",
       "freq                                                   25  "
      ]
     },
     "execution_count": 8,
     "metadata": {},
     "output_type": "execute_result"
    }
   ],
   "source": [
    "df_specs.describe()"
   ]
  },
  {
   "cell_type": "code",
   "execution_count": 16,
   "metadata": {},
   "outputs": [
    {
     "data": {
      "text/plain": [
       "168"
      ]
     },
     "execution_count": 16,
     "metadata": {},
     "output_type": "execute_result"
    }
   ],
   "source": [
    "_ = df_specs['info'].unique()\n",
    "df_specs['info'].nunique()"
   ]
  },
  {
   "cell_type": "code",
   "execution_count": 20,
   "metadata": {},
   "outputs": [
    {
     "data": {
      "text/plain": [
       "'The end of system-initiated feedback (Incorrect) event occurs when the game finishes delivering feedback to the player in response to an incorrect round attempt (pressing the go button with the incorrect answer). It contains information that describes the content of the instruction. These events are used to determine the effectiveness of the feedback. We can answer questions like, \"how much time elapsed while the game was presenting feedback?\"'"
      ]
     },
     "execution_count": 20,
     "metadata": {},
     "output_type": "execute_result"
    }
   ],
   "source": [
    "_[1]"
   ]
  },
  {
   "cell_type": "code",
   "execution_count": 9,
   "metadata": {},
   "outputs": [
    {
     "data": {
      "text/plain": [
       "Index(['event_id', 'info', 'args'], dtype='object')"
      ]
     },
     "execution_count": 9,
     "metadata": {},
     "output_type": "execute_result"
    }
   ],
   "source": [
    "df_specs.columns"
   ]
  },
  {
   "cell_type": "code",
   "execution_count": 10,
   "metadata": {},
   "outputs": [
    {
     "data": {
      "text/plain": [
       "384"
      ]
     },
     "execution_count": 10,
     "metadata": {},
     "output_type": "execute_result"
    }
   ],
   "source": [
    "df.event_id.nunique()"
   ]
  },
  {
   "cell_type": "code",
   "execution_count": 11,
   "metadata": {},
   "outputs": [
    {
     "data": {
      "text/plain": [
       "303319"
      ]
     },
     "execution_count": 11,
     "metadata": {},
     "output_type": "execute_result"
    }
   ],
   "source": [
    "df.game_session.nunique()"
   ]
  },
  {
   "cell_type": "code",
   "execution_count": 12,
   "metadata": {},
   "outputs": [
    {
     "data": {
      "text/plain": [
       "17000"
      ]
     },
     "execution_count": 12,
     "metadata": {},
     "output_type": "execute_result"
    }
   ],
   "source": [
    "df.installation_id.nunique()"
   ]
  },
  {
   "cell_type": "code",
   "execution_count": 19,
   "metadata": {},
   "outputs": [
    {
     "data": {
      "text/plain": [
       "'The end of system-initiated feedback (Incorrect) event occurs when the game finishes delivering feedback to the player in response to an incorrect round attempt (pressing the go button with the incorrect answer). It contains information that describes the content of the instruction. These events are used to determine the effectiveness of the feedback. We can answer questions like, \"how much time elapsed while the game was presenting feedback?\"'"
      ]
     },
     "execution_count": 19,
     "metadata": {},
     "output_type": "execute_result"
    }
   ],
   "source": [
    "df_specs['info'][1]"
   ]
  },
  {
   "cell_type": "code",
   "execution_count": 20,
   "metadata": {},
   "outputs": [
    {
     "data": {
      "text/plain": [
       "'[{\"name\":\"game_time\",\"type\":\"int\",\"info\":\"millisecond count since start of game\"},{\"name\":\"description\",\"type\":\"string\",\"info\":\"the text or description of the instruction\"},{\"name\":\"identifier\",\"type\":\"string\",\"info\":\"a unique identifier for this piece of instruction\"},{\"name\":\"media_type\",\"type\":\"string\",\"info\":\"the type of media that has just played:\\\\n\\'audio\\' || \\'animation\\' || \\'other\\'\"},{\"name\":\"duration\",\"type\":\"int\",\"info\":\"the duration of the media playback in milliseconds\"},{\"name\":\"event_count\",\"type\":\"int\",\"info\":\"session event counter\"},{\"name\":\"event_code\",\"type\":\"int\",\"info\":\"event class identifier\"}]'"
      ]
     },
     "execution_count": 20,
     "metadata": {},
     "output_type": "execute_result"
    }
   ],
   "source": [
    "df_specs['args'][1]"
   ]
  },
  {
   "cell_type": "code",
   "execution_count": 9,
   "metadata": {},
   "outputs": [],
   "source": [
    "grps = df_ttop_cry_rulz.groupby('game_session')"
   ]
  },
  {
   "cell_type": "code",
   "execution_count": 15,
   "metadata": {},
   "outputs": [
    {
     "data": {
      "text/html": [
       "<div>\n",
       "<style scoped>\n",
       "    .dataframe tbody tr th:only-of-type {\n",
       "        vertical-align: middle;\n",
       "    }\n",
       "\n",
       "    .dataframe tbody tr th {\n",
       "        vertical-align: top;\n",
       "    }\n",
       "\n",
       "    .dataframe thead th {\n",
       "        text-align: right;\n",
       "    }\n",
       "</style>\n",
       "<table border=\"1\" class=\"dataframe\">\n",
       "  <thead>\n",
       "    <tr style=\"text-align: right;\">\n",
       "      <th></th>\n",
       "      <th>event_id</th>\n",
       "      <th>timestamp</th>\n",
       "      <th>event_data</th>\n",
       "      <th>installation_id</th>\n",
       "      <th>event_count</th>\n",
       "      <th>event_code</th>\n",
       "      <th>game_time</th>\n",
       "      <th>title</th>\n",
       "      <th>type</th>\n",
       "      <th>world</th>\n",
       "    </tr>\n",
       "    <tr>\n",
       "      <th>game_session</th>\n",
       "      <th></th>\n",
       "      <th></th>\n",
       "      <th></th>\n",
       "      <th></th>\n",
       "      <th></th>\n",
       "      <th></th>\n",
       "      <th></th>\n",
       "      <th></th>\n",
       "      <th></th>\n",
       "      <th></th>\n",
       "    </tr>\n",
       "  </thead>\n",
       "  <tbody>\n",
       "    <tr>\n",
       "      <th>000777a37eb5512c</th>\n",
       "      <td>193</td>\n",
       "      <td>193</td>\n",
       "      <td>193</td>\n",
       "      <td>193</td>\n",
       "      <td>193</td>\n",
       "      <td>193</td>\n",
       "      <td>193</td>\n",
       "      <td>193</td>\n",
       "      <td>193</td>\n",
       "      <td>193</td>\n",
       "    </tr>\n",
       "    <tr>\n",
       "      <th>001b4170f6a50bfb</th>\n",
       "      <td>483</td>\n",
       "      <td>483</td>\n",
       "      <td>483</td>\n",
       "      <td>483</td>\n",
       "      <td>483</td>\n",
       "      <td>483</td>\n",
       "      <td>483</td>\n",
       "      <td>483</td>\n",
       "      <td>483</td>\n",
       "      <td>483</td>\n",
       "    </tr>\n",
       "    <tr>\n",
       "      <th>0037677652116de9</th>\n",
       "      <td>167</td>\n",
       "      <td>167</td>\n",
       "      <td>167</td>\n",
       "      <td>167</td>\n",
       "      <td>167</td>\n",
       "      <td>167</td>\n",
       "      <td>167</td>\n",
       "      <td>167</td>\n",
       "      <td>167</td>\n",
       "      <td>167</td>\n",
       "    </tr>\n",
       "    <tr>\n",
       "      <th>00414b4c316a00af</th>\n",
       "      <td>30</td>\n",
       "      <td>30</td>\n",
       "      <td>30</td>\n",
       "      <td>30</td>\n",
       "      <td>30</td>\n",
       "      <td>30</td>\n",
       "      <td>30</td>\n",
       "      <td>30</td>\n",
       "      <td>30</td>\n",
       "      <td>30</td>\n",
       "    </tr>\n",
       "    <tr>\n",
       "      <th>0046261921921613</th>\n",
       "      <td>285</td>\n",
       "      <td>285</td>\n",
       "      <td>285</td>\n",
       "      <td>285</td>\n",
       "      <td>285</td>\n",
       "      <td>285</td>\n",
       "      <td>285</td>\n",
       "      <td>285</td>\n",
       "      <td>285</td>\n",
       "      <td>285</td>\n",
       "    </tr>\n",
       "  </tbody>\n",
       "</table>\n",
       "</div>"
      ],
      "text/plain": [
       "                  event_id  timestamp  event_data  installation_id  \\\n",
       "game_session                                                         \n",
       "000777a37eb5512c  193       193        193         193               \n",
       "001b4170f6a50bfb  483       483        483         483               \n",
       "0037677652116de9  167       167        167         167               \n",
       "00414b4c316a00af  30        30         30          30                \n",
       "0046261921921613  285       285        285         285               \n",
       "\n",
       "                  event_count  event_code  game_time  title  type  world  \n",
       "game_session                                                              \n",
       "000777a37eb5512c  193          193         193        193    193   193    \n",
       "001b4170f6a50bfb  483          483         483        483    483   483    \n",
       "0037677652116de9  167          167         167        167    167   167    \n",
       "00414b4c316a00af  30           30          30         30     30    30     \n",
       "0046261921921613  285          285         285        285    285   285    "
      ]
     },
     "execution_count": 15,
     "metadata": {},
     "output_type": "execute_result"
    }
   ],
   "source": [
    "grps.count().head(5)"
   ]
  },
  {
   "cell_type": "code",
   "execution_count": 20,
   "metadata": {
    "scrolled": false
   },
   "outputs": [
    {
     "data": {
      "text/plain": [
       "(453852, 3145, 2897)"
      ]
     },
     "execution_count": 20,
     "metadata": {},
     "output_type": "execute_result"
    }
   ],
   "source": [
    "grps.count()['event_id'].sum(), len(grps.count()['event_id']),(grps.count()['event_id']>1).sum()"
   ]
  },
  {
   "cell_type": "code",
   "execution_count": 23,
   "metadata": {},
   "outputs": [
    {
     "data": {
      "text/plain": [
       "(2532, 2421, 2129)"
      ]
     },
     "execution_count": 23,
     "metadata": {},
     "output_type": "execute_result"
    }
   ],
   "source": [
    "(grps.count()['event_id']>10).sum(), (grps.count()['event_id']>20).sum(), (grps.count()['event_id']>50).sum()"
   ]
  },
  {
   "cell_type": "code",
   "execution_count": 28,
   "metadata": {},
   "outputs": [],
   "source": [
    "grp = grps.get_group('000777a37eb5512c')"
   ]
  },
  {
   "cell_type": "code",
   "execution_count": 31,
   "metadata": {},
   "outputs": [],
   "source": [
    "grp_m = grp.merge(df_specs,on='event_id')"
   ]
  },
  {
   "cell_type": "code",
   "execution_count": 24,
   "metadata": {},
   "outputs": [],
   "source": [
    "i = 0\n",
    "with open('event_codes.txt','w') as fl:\n",
    "    for sess in ['000777a37eb5512c','001b4170f6a50bfb','ff07dfecd0bf6a02','ff6e04c48b57d491','ff302bada0fec8c7','ff051332f77a212c']:\n",
    "        grp = grps.get_group(sess).sort_values(by='event_count').reset_index()\n",
    "        fl.write(str(i)+':\\t')\n",
    "        for num,val in grp.iterrows():\n",
    "            #fl.write(str(i)+':\\t')\n",
    "            #fl.write(val['info'])\n",
    "            #fl.write('\\na:\\t')\n",
    "            #fl.write(val['args'])\n",
    "            #fl.write('\\nb:\\t')\n",
    "            fl.write(str(val['event_code']))\n",
    "            fl.write('\\n')\n",
    "        fl.write('\\n\\n')\n",
    "        i += 1"
   ]
  },
  {
   "cell_type": "code",
   "execution_count": 32,
   "metadata": {},
   "outputs": [],
   "source": [
    "# get a dict from id to count mappings\n",
    "id2count = defaultdict(lambda : 0)\n",
    "ids = []"
   ]
  },
  {
   "cell_type": "code",
   "execution_count": 33,
   "metadata": {},
   "outputs": [],
   "source": [
    "#get all last event ids\n",
    "with open('last_eve_codes.txt','w') as fl:\n",
    "    for name,sess in grps:\n",
    "        sess_sort = sess.sort_values(by='event_count').reset_index()\n",
    "        #fl.write('session_id : '+str(name)+'\\t')\n",
    "        fl.write(str(sess_sort['event_code'].values[-1]))\n",
    "        ids.append(sess_sort['event_code'].values[-1])\n",
    "        fl.write('\\n')"
   ]
  },
  {
   "cell_type": "code",
   "execution_count": 35,
   "metadata": {},
   "outputs": [],
   "source": [
    "for id_ in ids:\n",
    "    id2count[id_] += 1 "
   ]
  },
  {
   "cell_type": "code",
   "execution_count": 36,
   "metadata": {},
   "outputs": [
    {
     "data": {
      "text/plain": [
       "15"
      ]
     },
     "execution_count": 36,
     "metadata": {},
     "output_type": "execute_result"
    }
   ],
   "source": [
    "len(id2count)"
   ]
  },
  {
   "cell_type": "code",
   "execution_count": 37,
   "metadata": {},
   "outputs": [
    {
     "data": {
      "text/plain": [
       "dict_keys([3110, 4070, 3121, 3010, 3021, 3020, 2000, 4010, 3120, 2020, 4050, 2030, 2010, 4020, 4090])"
      ]
     },
     "execution_count": 37,
     "metadata": {},
     "output_type": "execute_result"
    }
   ],
   "source": [
    "id2count.keys()"
   ]
  },
  {
   "cell_type": "code",
   "execution_count": 38,
   "metadata": {},
   "outputs": [
    {
     "data": {
      "text/plain": [
       "defaultdict(<function __main__.<lambda>()>,\n",
       "            {3110: 482,\n",
       "             4070: 518,\n",
       "             3121: 653,\n",
       "             3010: 710,\n",
       "             3021: 292,\n",
       "             3020: 87,\n",
       "             2000: 248,\n",
       "             4010: 17,\n",
       "             3120: 91,\n",
       "             2020: 19,\n",
       "             4050: 9,\n",
       "             2030: 16,\n",
       "             2010: 1,\n",
       "             4020: 1,\n",
       "             4090: 1})"
      ]
     },
     "execution_count": 38,
     "metadata": {},
     "output_type": "execute_result"
    }
   ],
   "source": [
    "id2count"
   ]
  },
  {
   "cell_type": "markdown",
   "metadata": {},
   "source": [
    "1) 3110:482\n",
    "    1) game instructions delivery finish\n",
    "2) 4070:518\n",
    "    1) player clicking on background, mechanical diffic or distractions\n",
    "3) 3121:653\n",
    "    1) system delivered feedback for correct round attempt\n",
    "4) 3010:710\n",
    "    1) The system-initiated instruction event, instructions that are not given in response to player action\n",
    "5) 3021:292\n",
    "    1) The system-initiated feedback (Correct) event occurs when the game starts delivering feedback\n",
    "6) 3020:87\n",
    "    1) The system-initiated feedback (Incorrect) event occurs when the game starts delivering feedback to the player in response to an incorrect round attempt\n",
    "7) 2000:248\n",
    "    1) The start game event is triggered at the very beginning of the level\n",
    "8) 4010:17\n",
    "    1) This event occurs when the player clicks to start the game from the starting screen.\n",
    "9) 3120:91\n",
    "    1) The end of system-initiated feedback (Incorrect) event occurs when the game finishes delivering feedback to the player in response to an incorrect round attempt\n",
    "10) 2020:19\n",
    "    1) The start round event is triggered at the start of a round. This event provides information about the game characteristics of the round\n",
    "11) 4050:9\n",
    "    1) This event occurs when the player drags the object below the crystal. It occurs when the drag has finished\n",
    "12) 2030:16\n",
    "    1) The finished round event is triggered when the player finishes a round (hit milestone)\n",
    "13) 2010:1\n",
    "14) 4020:1\n",
    "    1) This event occurs when the player clicks a group of objects\n",
    "15) 4090:1"
   ]
  },
  {
   "cell_type": "code",
   "execution_count": 34,
   "metadata": {},
   "outputs": [
    {
     "data": {
      "text/plain": [
       "(193, 193)"
      ]
     },
     "execution_count": 34,
     "metadata": {},
     "output_type": "execute_result"
    }
   ],
   "source": [
    "len(grp_m),len(grp)"
   ]
  },
  {
   "cell_type": "code",
   "execution_count": 45,
   "metadata": {},
   "outputs": [],
   "source": [
    "grp_m_s = grp_m.sort_values(by='event_count').reset_index()"
   ]
  },
  {
   "cell_type": "code",
   "execution_count": 62,
   "metadata": {},
   "outputs": [
    {
     "data": {
      "text/plain": [
       "0    Crystals Rule\n",
       "Name: title, dtype: object"
      ]
     },
     "execution_count": 62,
     "metadata": {},
     "output_type": "execute_result"
    }
   ],
   "source": [
    "grp_m_s.head(1)['title']"
   ]
  },
  {
   "cell_type": "code",
   "execution_count": 51,
   "metadata": {},
   "outputs": [
    {
     "data": {
      "text/plain": [
       "index              0                                                                                                                                                                                                                                                                                                                                                                                                                                             \n",
       "event_id           48349b14                                                                                                                                                                                                                                                                                                                                                                                                                                      \n",
       "game_session       000777a37eb5512c                                                                                                                                                                                                                                                                                                                                                                                                                              \n",
       "timestamp          2019-09-21T01:01:04.440Z                                                                                                                                                                                                                                                                                                                                                                                                                      \n",
       "event_data         {\"version\":\"1.0\",\"round\":0,\"event_count\":1,\"game_time\":0,\"event_code\":2000}                                                                                                                                                                                                                                                                                                                                                                   \n",
       "installation_id    bbb627cf                                                                                                                                                                                                                                                                                                                                                                                                                                      \n",
       "event_count        1                                                                                                                                                                                                                                                                                                                                                                                                                                             \n",
       "event_code         2000                                                                                                                                                                                                                                                                                                                                                                                                                                          \n",
       "game_time          0                                                                                                                                                                                                                                                                                                                                                                                                                                             \n",
       "title              Crystals Rule                                                                                                                                                                                                                                                                                                                                                                                                                                 \n",
       "type               Game                                                                                                                                                                                                                                                                                                                                                                                                                                          \n",
       "world              TREETOPCITY                                                                                                                                                                                                                                                                                                                                                                                                                                   \n",
       "info               The start game event is triggered at the very beginning of the level (after the game finishes loading, don't wait for intro movie to finish). This is used to compute things like time spent in game.                                                                                                                                                                                                                                         \n",
       "args               [{\"name\":\"game_time\",\"type\":\"int\",\"info\":\"millisecond count since start of game\"},{\"name\":\"round\",\"type\":\"int\",\"info\":\"number of the current round when the event takes place or 0 if no round\"},{\"name\":\"version\",\"type\":\"string\",\"info\":\"identifier of the current version of the game being played\"},{\"name\":\"event_count\",\"type\":\"int\",\"info\":\"session event counter\"},{\"name\":\"event_code\",\"type\":\"int\",\"info\":\"event class identifier\"}]\n",
       "Name: 0, dtype: object"
      ]
     },
     "execution_count": 51,
     "metadata": {},
     "output_type": "execute_result"
    }
   ],
   "source": [
    "list(grp_m_s.iterrows())[0][1]"
   ]
  },
  {
   "cell_type": "code",
   "execution_count": 56,
   "metadata": {},
   "outputs": [],
   "source": [
    "with open('ttop_city_sess_000777a37eb5512c_events.txt','w') as fl:\n",
    "    for i,val in grp_m_s.iterrows():\n",
    "        fl.write(str(i)+':\\t')\n",
    "        fl.write(val['info'])\n",
    "        fl.write('\\na:\\t')\n",
    "        fl.write(val['args'])\n",
    "        fl.write('\\nb:\\t')\n",
    "        fl.write(val['event_data'])\n",
    "        fl.write('\\n\\n')"
   ]
  },
  {
   "cell_type": "code",
   "execution_count": 18,
   "metadata": {},
   "outputs": [],
   "source": [
    "lbls = pd.read_csv('train_labels.csv')"
   ]
  },
  {
   "cell_type": "code",
   "execution_count": 19,
   "metadata": {},
   "outputs": [
    {
     "data": {
      "text/html": [
       "<div>\n",
       "<style scoped>\n",
       "    .dataframe tbody tr th:only-of-type {\n",
       "        vertical-align: middle;\n",
       "    }\n",
       "\n",
       "    .dataframe tbody tr th {\n",
       "        vertical-align: top;\n",
       "    }\n",
       "\n",
       "    .dataframe thead th {\n",
       "        text-align: right;\n",
       "    }\n",
       "</style>\n",
       "<table border=\"1\" class=\"dataframe\">\n",
       "  <thead>\n",
       "    <tr style=\"text-align: right;\">\n",
       "      <th></th>\n",
       "      <th>game_session</th>\n",
       "      <th>installation_id</th>\n",
       "      <th>title</th>\n",
       "      <th>num_correct</th>\n",
       "      <th>num_incorrect</th>\n",
       "      <th>accuracy</th>\n",
       "      <th>accuracy_group</th>\n",
       "    </tr>\n",
       "  </thead>\n",
       "  <tbody>\n",
       "    <tr>\n",
       "      <th>0</th>\n",
       "      <td>6bdf9623adc94d89</td>\n",
       "      <td>0006a69f</td>\n",
       "      <td>Mushroom Sorter (Assessment)</td>\n",
       "      <td>1</td>\n",
       "      <td>0</td>\n",
       "      <td>1.0</td>\n",
       "      <td>3</td>\n",
       "    </tr>\n",
       "    <tr>\n",
       "      <th>1</th>\n",
       "      <td>77b8ee947eb84b4e</td>\n",
       "      <td>0006a69f</td>\n",
       "      <td>Bird Measurer (Assessment)</td>\n",
       "      <td>0</td>\n",
       "      <td>11</td>\n",
       "      <td>0.0</td>\n",
       "      <td>0</td>\n",
       "    </tr>\n",
       "    <tr>\n",
       "      <th>2</th>\n",
       "      <td>901acc108f55a5a1</td>\n",
       "      <td>0006a69f</td>\n",
       "      <td>Mushroom Sorter (Assessment)</td>\n",
       "      <td>1</td>\n",
       "      <td>0</td>\n",
       "      <td>1.0</td>\n",
       "      <td>3</td>\n",
       "    </tr>\n",
       "    <tr>\n",
       "      <th>3</th>\n",
       "      <td>9501794defd84e4d</td>\n",
       "      <td>0006a69f</td>\n",
       "      <td>Mushroom Sorter (Assessment)</td>\n",
       "      <td>1</td>\n",
       "      <td>1</td>\n",
       "      <td>0.5</td>\n",
       "      <td>2</td>\n",
       "    </tr>\n",
       "    <tr>\n",
       "      <th>4</th>\n",
       "      <td>a9ef3ecb3d1acc6a</td>\n",
       "      <td>0006a69f</td>\n",
       "      <td>Bird Measurer (Assessment)</td>\n",
       "      <td>1</td>\n",
       "      <td>0</td>\n",
       "      <td>1.0</td>\n",
       "      <td>3</td>\n",
       "    </tr>\n",
       "  </tbody>\n",
       "</table>\n",
       "</div>"
      ],
      "text/plain": [
       "       game_session installation_id                         title  \\\n",
       "0  6bdf9623adc94d89        0006a69f  Mushroom Sorter (Assessment)   \n",
       "1  77b8ee947eb84b4e        0006a69f    Bird Measurer (Assessment)   \n",
       "2  901acc108f55a5a1        0006a69f  Mushroom Sorter (Assessment)   \n",
       "3  9501794defd84e4d        0006a69f  Mushroom Sorter (Assessment)   \n",
       "4  a9ef3ecb3d1acc6a        0006a69f    Bird Measurer (Assessment)   \n",
       "\n",
       "   num_correct  num_incorrect  accuracy  accuracy_group  \n",
       "0            1              0       1.0               3  \n",
       "1            0             11       0.0               0  \n",
       "2            1              0       1.0               3  \n",
       "3            1              1       0.5               2  \n",
       "4            1              0       1.0               3  "
      ]
     },
     "execution_count": 19,
     "metadata": {},
     "output_type": "execute_result"
    }
   ],
   "source": [
    "lbls.head()"
   ]
  },
  {
   "cell_type": "code",
   "execution_count": null,
   "metadata": {},
   "outputs": [],
   "source": []
  }
 ],
 "metadata": {
  "kernelspec": {
   "display_name": "Python 3",
   "language": "python",
   "name": "python3"
  },
  "language_info": {
   "codemirror_mode": {
    "name": "ipython",
    "version": 3
   },
   "file_extension": ".py",
   "mimetype": "text/x-python",
   "name": "python",
   "nbconvert_exporter": "python",
   "pygments_lexer": "ipython3",
   "version": "3.7.2"
  }
 },
 "nbformat": 4,
 "nbformat_minor": 2
}
